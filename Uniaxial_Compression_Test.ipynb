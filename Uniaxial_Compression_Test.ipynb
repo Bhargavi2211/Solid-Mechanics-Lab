{
  "nbformat": 4,
  "nbformat_minor": 0,
  "metadata": {
    "colab": {
      "name": "Uniaxial Compression Test.ipynb",
      "provenance": [],
      "collapsed_sections": []
    },
    "kernelspec": {
      "name": "python3",
      "display_name": "Python 3"
    }
  },
  "cells": [
    {
      "cell_type": "code",
      "metadata": {
        "colab": {
          "base_uri": "https://localhost:8080/",
          "height": 313
        },
        "id": "aIEk7K8NUUwC",
        "outputId": "080775cf-3221-4083-fe38-5c096f44ff5e"
      },
      "source": [
        "#For Steel\r\n",
        "import matplotlib.pyplot as plt\r\n",
        "import csv\r\n",
        "import math\r\n",
        "import pandas as pd\r\n",
        "import numpy as np\r\n",
        "\r\n",
        "Force = []\r\n",
        "Extension = []\r\n",
        "\r\n",
        "with open('Steel.csv','r') as csvfile:\r\n",
        "    plots = csv.reader(csvfile, delimiter=',')\r\n",
        "    for row in plots:\r\n",
        "        Force.append(float(row[0]))\r\n",
        "        Extension.append(float(row[1]))\r\n",
        "Stress = []\r\n",
        "for Forces in Force:\r\n",
        "  Stress.append((Forces*4)/(math.pi*0.007*0.007))\r\n",
        "\r\n",
        "Strain = []\r\n",
        "for extensions in Extension:\r\n",
        "  Strain.append(extensions/100)\r\n",
        "\r\n",
        "True_Stress = []\r\n",
        "True_Strain = []\r\n",
        "\r\n",
        "for i in range (0, 980):\r\n",
        "  x = Stress[i] * (1 + Strain[i])\r\n",
        "  i = i + 1\r\n",
        "  True_Stress.append(x)\r\n",
        "\r\n",
        "for i in range (0, 980):\r\n",
        "  y = math.log(1+Strain[i])\r\n",
        "  i = i + 1\r\n",
        "  True_Strain.append(y)\r\n",
        "\r\n",
        "j = Stress[400]\r\n",
        "k = Strain[400]\r\n",
        "h = Stress[800]\r\n",
        "i = Strain[800]\r\n",
        "Slope = (h-j)/(i-k)\r\n",
        "print(Slope)\r\n",
        "\r\n",
        "plt.plot(Strain, Stress)\r\n",
        "plt.plot(True_Strain, True_Stress)\r\n",
        "plt.scatter(k, j)\r\n",
        "plt.scatter(i, h)\r\n",
        "plt.title('Steel')\r\n",
        "plt.xlabel('Strain')\r\n",
        "plt.ylabel('Stress in N/m2')\r\n",
        "plt.show()\r\n"
      ],
      "execution_count": 41,
      "outputs": [
        {
          "output_type": "stream",
          "text": [
            "135779215482.69379\n"
          ],
          "name": "stdout"
        },
        {
          "output_type": "display_data",
          "data": {
            "image/png": "[encoded data removed]",
            "text/plain": [
              "<Figure size 432x288 with 1 Axes>"
            ]
          },
          "metadata": {
            "tags": [],
            "needs_background": "light"
          }
        }
      ]
    },
    {
      "cell_type": "code",
      "metadata": {
        "colab": {
          "base_uri": "https://localhost:8080/",
          "height": 313
        },
        "id": "1TH_sfX4V2ag",
        "outputId": "ae84a916-e14f-4e4c-9a35-d7a27f93a564"
      },
      "source": [
        "#Aluminium\r\n",
        "import matplotlib.pyplot as plt\r\n",
        "import csv\r\n",
        "import math\r\n",
        "import pandas as pd\r\n",
        "import numpy as np\r\n",
        "\r\n",
        "Force = []\r\n",
        "Extension = []\r\n",
        "\r\n",
        "with open('AL.csv','r') as csvfile:\r\n",
        "    plots = csv.reader(csvfile, delimiter=',')\r\n",
        "    for row in plots:\r\n",
        "        Force.append(float(row[0]))\r\n",
        "        Extension.append(float(row[1]))\r\n",
        "Stress = []\r\n",
        "for Forces in Force:\r\n",
        "  Stress.append((Forces*4)/(math.pi*0.007*0.007))\r\n",
        "\r\n",
        "Strain = []\r\n",
        "for extensions in Extension:\r\n",
        "  Strain.append(extensions/100)\r\n",
        "\r\n",
        "True_Stress = []\r\n",
        "True_Strain = []\r\n",
        "\r\n",
        "for i in range (0, 980):\r\n",
        "  x = Stress[i] * (1 + Strain[i])\r\n",
        "  i = i + 1\r\n",
        "  True_Stress.append(x)\r\n",
        "\r\n",
        "for i in range (0, 980):\r\n",
        "  y = math.log(1+Strain[i])\r\n",
        "  i = i + 1\r\n",
        "  True_Strain.append(y)\r\n",
        "\r\n",
        "j = Stress[70]\r\n",
        "k = Strain[70]\r\n",
        "h = Stress[110]\r\n",
        "i = Strain[110]\r\n",
        "Slope = (h-j)/(i-k)\r\n",
        "print(Slope)\r\n",
        "\r\n",
        "plt.plot(Strain, Stress)\r\n",
        "plt.plot(True_Strain, True_Stress)\r\n",
        "plt.scatter(k, j)\r\n",
        "plt.scatter(i, h)\r\n",
        "plt.title('Aluminium')\r\n",
        "plt.xlabel('Strain')\r\n",
        "plt.ylabel('Stress in N/m2')\r\n",
        "plt.show()\r\n"
      ],
      "execution_count": 42,
      "outputs": [
        {
          "output_type": "stream",
          "text": [
            "111227511204.8745\n"
          ],
          "name": "stdout"
        },
        {
          "output_type": "display_data",
          "data": {
            "image/png": "[encoded data removed]",
            "text/plain": [
              "<Figure size 432x288 with 1 Axes>"
            ]
          },
          "metadata": {
            "tags": [],
            "needs_background": "light"
          }
        }
      ]
    }
  ]
}