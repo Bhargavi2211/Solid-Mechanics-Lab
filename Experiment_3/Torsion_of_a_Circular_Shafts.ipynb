{
  "nbformat": 4,
  "nbformat_minor": 0,
  "metadata": {
    "colab": {
      "name": "Torsion of a Circular Shafts.ipynb",
      "provenance": []
    },
    "kernelspec": {
      "name": "python3",
      "display_name": "Python 3"
    }
  },
  "cells": [
    {
      "cell_type": "code",
      "metadata": {
        "id": "56uPEIVk87kE"
      },
      "source": [
        "import matplotlib.pyplot as plt\r\n",
        "import csv\r\n",
        "import math\r\n",
        "import pandas as pd\r\n",
        "import numpy as np\r\n",
        "\r\n",
        "Torque = []\r\n",
        "Twist_Angle = []\r\n",
        "\r\n",
        "with open('Data.csv','r') as csvfile:\r\n",
        "    plots = csv.reader(csvfile, delimiter=',')\r\n",
        "    for row in plots:\r\n",
        "        Torque.append(float(row[0]))\r\n",
        "        Twist_Angle.append(float(row[1]))\r\n"
      ],
      "execution_count": null,
      "outputs": []
    },
    {
      "cell_type": "code",
      "metadata": {
        "colab": {
          "base_uri": "https://localhost:8080/"
        },
        "id": "lx7uT9vn-ldR",
        "outputId": "dda2d4a1-ee02-4347-9487-9ddd0b434d17"
      },
      "source": [
        "#Yield Point\r\n",
        "a = Torque[60]\r\n",
        "b = Twist_Angle[60]\r\n",
        "print(a, b)"
      ],
      "execution_count": 73,
      "outputs": [
        {
          "output_type": "stream",
          "text": [
            "28.51600647 9.750080109\n"
          ],
          "name": "stdout"
        }
      ]
    },
    {
      "cell_type": "code",
      "metadata": {
        "colab": {
          "base_uri": "https://localhost:8080/"
        },
        "id": "EXIAVbN3-tJ5",
        "outputId": "59989fb1-63f5-40c8-e20a-9cf5427a9b49"
      },
      "source": [
        "#Limiting\r\n",
        "d = Torque[12000]\r\n",
        "e = Twist_Angle[12000]\r\n",
        "print(d, e)"
      ],
      "execution_count": 74,
      "outputs": [
        {
          "output_type": "stream",
          "text": [
            "38.27231598 2085.226563\n"
          ],
          "name": "stdout"
        }
      ]
    },
    {
      "cell_type": "code",
      "metadata": {
        "colab": {
          "base_uri": "https://localhost:8080/"
        },
        "id": "Vq25I56T-5xg",
        "outputId": "74ddc244-28c1-4c08-c667-4de58e8ce0eb"
      },
      "source": [
        "#Failure\r\n",
        "f = Torque[22280]\r\n",
        "g = Twist_Angle[22280]\r\n",
        "print(d, e)"
      ],
      "execution_count": 75,
      "outputs": [
        {
          "output_type": "stream",
          "text": [
            "38.27231598 2085.226563\n"
          ],
          "name": "stdout"
        }
      ]
    },
    {
      "cell_type": "code",
      "metadata": {
        "colab": {
          "base_uri": "https://localhost:8080/",
          "height": 281
        },
        "id": "ptfv9bt7--Y6",
        "outputId": "62fdb278-e3d7-4153-f4c5-38a5b6095e59"
      },
      "source": [
        "plt.plot(Twist_Angle, Torque)\r\n",
        "plt.scatter(b, a)\r\n",
        "plt.scatter(e, d)\r\n",
        "plt.scatter(g, f)\r\n",
        "plt.title('Torque vs Twist Angle')\r\n",
        "plt.show()"
      ],
      "execution_count": 77,
      "outputs": [
        {
          "output_type": "display_data",
          "data": {
            "image/png": "[encoded data removed]",
            "text/plain": [
              "<Figure size 432x288 with 1 Axes>"
            ]
          },
          "metadata": {
            "tags": [],
            "needs_background": "light"
          }
        }
      ]
    },
    {
      "cell_type": "markdown",
      "metadata": {
        "id": "m809wFRL-s0B"
      },
      "source": [
        ""
      ]
    }
  ]
}