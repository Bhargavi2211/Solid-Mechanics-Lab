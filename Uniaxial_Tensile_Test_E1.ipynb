{
  "nbformat": 4,
  "nbformat_minor": 0,
  "metadata": {
    "colab": {
      "name": "Uniaxial Tensile Test - E1.ipynb",
      "provenance": [],
      "collapsed_sections": [],
      "toc_visible": true
    },
    "kernelspec": {
      "name": "python3",
      "display_name": "Python 3"
    }
  },
  "cells": [
    {
      "cell_type": "code",
      "metadata": {
        "id": "iV9QZZOiPb8E"
      },
      "source": [
        "#For Aluminium\r\n",
        "import matplotlib.pyplot as plt\r\n",
        "import csv\r\n",
        "import math\r\n",
        "import pandas as pd\r\n",
        "import numpy as np\r\n",
        "\r\n",
        "Force = []\r\n",
        "Extension = []\r\n",
        "\r\n",
        "with open('UTM_Aluminium.csv','r') as csvfile:\r\n",
        "    plots = csv.reader(csvfile, delimiter=',')\r\n",
        "    for row in plots:\r\n",
        "        Force.append(float(row[0]))\r\n",
        "        Extension.append(float(row[1]))\r\n",
        "Stress = []\r\n",
        "for Forces in Force:\r\n",
        "  Stress.append((Forces*4)/(math.pi*0.007*0.007))\r\n",
        "\r\n",
        "Strain = []\r\n",
        "for extensions in Extension:\r\n",
        "  Strain.append(extensions/100)"
      ],
      "execution_count": 453,
      "outputs": []
    },
    {
      "cell_type": "code",
      "metadata": {
        "id": "KWAtfZ2aH3Di"
      },
      "source": [
        "True_Stress = []\r\n",
        "for i in range (0, 998):\r\n",
        "  x = Stress[i] * (1 + Strain[i])\r\n",
        "  i = i + 1\r\n",
        "  True_Stress.append(x)\r\n",
        "  \r\n",
        "True_Strain = []\r\n",
        "for i in range (0, 998):\r\n",
        "  y = math.log(1+Strain[i])\r\n",
        "  i = i + 1\r\n",
        "  True_Strain.append(y)"
      ],
      "execution_count": 454,
      "outputs": []
    },
    {
      "cell_type": "code",
      "metadata": {
        "colab": {
          "base_uri": "https://localhost:8080/"
        },
        "id": "vCaIDW01Hldu",
        "outputId": "b3a59927-2b87-4b5f-b2d8-d3e67d5e431f"
      },
      "source": [
        "#UTS\r\n",
        "d = Stress[689]\r\n",
        "e = Strain[689]\r\n",
        "print(e,d)"
      ],
      "execution_count": 455,
      "outputs": [
        {
          "output_type": "stream",
          "text": [
            "0.076881 200779482.41253322\n"
          ],
          "name": "stdout"
        }
      ]
    },
    {
      "cell_type": "code",
      "metadata": {
        "colab": {
          "base_uri": "https://localhost:8080/"
        },
        "id": "IqJq45e_IQtz",
        "outputId": "1425e0c2-9583-41d9-9b9b-e138955de469"
      },
      "source": [
        "#Fracture\r\n",
        "f = Stress[-1]\r\n",
        "g = Strain[-1]\r\n",
        "print(g,f)"
      ],
      "execution_count": 456,
      "outputs": [
        {
          "output_type": "stream",
          "text": [
            "0.11124 59977377.9011776\n"
          ],
          "name": "stdout"
        }
      ]
    },
    {
      "cell_type": "code",
      "metadata": {
        "colab": {
          "base_uri": "https://localhost:8080/"
        },
        "id": "uCZ9Ec3d4fVx",
        "outputId": "41f320f6-1bc7-4fbe-ef34-74b4fd17aec3"
      },
      "source": [
        "#Yield Strength\r\n",
        "p = Stress[284]\r\n",
        "q = Strain[284]\r\n",
        "print(q, p)"
      ],
      "execution_count": 457,
      "outputs": [
        {
          "output_type": "stream",
          "text": [
            "0.031705000000000004 175304297.72562808\n"
          ],
          "name": "stdout"
        }
      ]
    },
    {
      "cell_type": "code",
      "metadata": {
        "colab": {
          "base_uri": "https://localhost:8080/",
          "height": 290
        },
        "id": "94tYucwhHvhX",
        "outputId": "eca984de-b810-4d7b-d536-29a5bbba158b"
      },
      "source": [
        "plt.plot(Strain, Stress)\r\n",
        "#UTS\r\n",
        "plt.scatter(e,d)\r\n",
        "plt.annotate('UTS', (e, d))\r\n",
        "#Fracture\r\n",
        "plt.scatter(g, f)\r\n",
        "plt.annotate('Fracture', (g, f))\r\n",
        "#Yield Strength\r\n",
        "plt.scatter(q, p)\r\n",
        "plt.annotate('Yield Strenth', (q, p))\r\n",
        "plt.xlabel('Strain')\r\n",
        "plt.ylabel('Stress in N/m2')\r\n",
        "plt.plot(True_Strain, True_Stress)\r\n",
        "plt.show()"
      ],
      "execution_count": 458,
      "outputs": [
        {
          "output_type": "display_data",
          "data": {
            "image/png": "[encoded data removed]",
            "text/plain": [
              "<Figure size 432x288 with 1 Axes>"
            ]
          },
          "metadata": {
            "tags": [],
            "needs_background": "light"
          }
        }
      ]
    },
    {
      "cell_type": "code",
      "metadata": {
        "colab": {
          "base_uri": "https://localhost:8080/"
        },
        "id": "JZLOQFPW3Owr",
        "outputId": "853b15ca-2f9e-42ff-cac7-c6dfe9b06295"
      },
      "source": [
        "#Young's modulus calculation for Aluminium using data taken from extensometer \r\n",
        "import matplotlib.pyplot as plt\r\n",
        "import csv\r\n",
        "import math\r\n",
        "import pandas as pd\r\n",
        "import numpy as np\r\n",
        "\r\n",
        "Force = []\r\n",
        "Extension = []\r\n",
        "\r\n",
        "with open('Extensometer_Aluminium.csv','r') as csvfile:\r\n",
        "    plots = csv.reader(csvfile, delimiter=',')\r\n",
        "    for row in plots:\r\n",
        "        Force.append(float(row[0]))\r\n",
        "        Extension.append(float(row[1]))\r\n",
        "\r\n",
        "Stress = []\r\n",
        "for Forces in Force:\r\n",
        "  Stress.append((Forces*4)/(math.pi*0.007*0.007))\r\n",
        "print(Stress)\r\n",
        "\r\n",
        "Strain = []\r\n",
        "for extensions in Extension:\r\n",
        "  #Gauge length is 20mm and extension is taken in micron so the conversion\r\n",
        "  #for strain calculation is 1/20000\r\n",
        "  Strain.append(extensions/20000)\r\n",
        "print(Strain)"
      ],
      "execution_count": 459,
      "outputs": [
        {
          "output_type": "stream",
          "text": [
            "[10159931.877376502, 14707215.96571637, 19124577.65153224, 23100203.168766525, 28894742.321336754, 35884567.57712775, 41990920.49575557, 47135847.63570582, 53320153.99584804, 59712336.20002865, 65013170.2230077, 72314809.24485628, 78395177.6829793, 83799949.62797755, 91387417.93537892, 97597708.77602595, 103626108.25313936, 108926942.27611841, 114487621.10414545, 121659337.72347005]\n",
            "[0.0001, 0.0002, 0.0003, 0.0004, 0.0005, 0.0006, 0.0007, 0.0008, 0.0009, 0.001, 0.0011, 0.0012, 0.0013, 0.0014, 0.0015, 0.0016, 0.0017, 0.0018, 0.0019, 0.002]\n"
          ],
          "name": "stdout"
        }
      ]
    },
    {
      "cell_type": "code",
      "metadata": {
        "colab": {
          "base_uri": "https://localhost:8080/"
        },
        "id": "jPhfXHEA3equ",
        "outputId": "9ee1982e-6b64-403c-abcd-08bd30e205a7"
      },
      "source": [
        "j = Stress[5]\r\n",
        "k = Strain[5]\r\n",
        "print(k,j)"
      ],
      "execution_count": 460,
      "outputs": [
        {
          "output_type": "stream",
          "text": [
            "0.0006 35884567.57712775\n"
          ],
          "name": "stdout"
        }
      ]
    },
    {
      "cell_type": "code",
      "metadata": {
        "colab": {
          "base_uri": "https://localhost:8080/"
        },
        "id": "PxcTizc93mrk",
        "outputId": "2f16ea06-76de-4b48-a1a2-7369768dcca6"
      },
      "source": [
        "h = Stress[14]\r\n",
        "i = Strain[14]\r\n",
        "print(i,h)"
      ],
      "execution_count": 461,
      "outputs": [
        {
          "output_type": "stream",
          "text": [
            "0.0015 91387417.93537892\n"
          ],
          "name": "stdout"
        }
      ]
    },
    {
      "cell_type": "code",
      "metadata": {
        "colab": {
          "base_uri": "https://localhost:8080/"
        },
        "id": "55WwrzV04E5h",
        "outputId": "306c0b46-1c72-42f2-8a04-6137d0e90f5e"
      },
      "source": [
        "Slope = (h-j)/(i-k)\r\n",
        "print(Slope)"
      ],
      "execution_count": 462,
      "outputs": [
        {
          "output_type": "stream",
          "text": [
            "61669833731.39019\n"
          ],
          "name": "stdout"
        }
      ]
    },
    {
      "cell_type": "code",
      "metadata": {
        "colab": {
          "base_uri": "https://localhost:8080/",
          "height": 295
        },
        "id": "Q7kB181XuBHE",
        "outputId": "0533caed-489c-4329-947c-118031a93777"
      },
      "source": [
        "plt.plot(Strain, Stress)\r\n",
        "plt.scatter(k, j)\r\n",
        "plt.scatter(i, h)\r\n",
        "plt.title('Obtained from Extensometer')\r\n",
        "plt.xlabel('Strain')\r\n",
        "plt.ylabel('Stress in N/m2')\r\n",
        "plt.show()"
      ],
      "execution_count": 463,
      "outputs": [
        {
          "output_type": "display_data",
          "data": {
            "image/png": "[encoded data removed]",
            "text/plain": [
              "<Figure size 432x288 with 1 Axes>"
            ]
          },
          "metadata": {
            "tags": [],
            "needs_background": "light"
          }
        }
      ]
    },
    {
      "cell_type": "code",
      "metadata": {
        "id": "Omm8e0QPw-h4"
      },
      "source": [
        "#For Mild Steel\r\n",
        "import matplotlib.pyplot as plt\r\n",
        "import csv\r\n",
        "import math\r\n",
        "import pandas as pd\r\n",
        "import numpy as np\r\n",
        "\r\n",
        "Force = []\r\n",
        "Extension = []\r\n",
        "\r\n",
        "with open('UTM_Steel.csv','r') as csvfile:\r\n",
        "    plots = csv.reader(csvfile, delimiter=',')\r\n",
        "    for row in plots:\r\n",
        "        Force.append(float(row[0]))\r\n",
        "        Extension.append(float(row[1]))\r\n",
        "\r\n",
        "Stress = []\r\n",
        "for Forces in Force:\r\n",
        "  Stress.append((Forces*4)/(math.pi*0.007*0.007))\r\n",
        "\r\n",
        "Strain = []\r\n",
        "for extensions in Extension:\r\n",
        "  Strain.append(extensions/100)"
      ],
      "execution_count": 464,
      "outputs": []
    },
    {
      "cell_type": "code",
      "metadata": {
        "id": "XYQbN7hlxIwv"
      },
      "source": [
        "True_Stress = []\r\n",
        "for i in range (0, 998):\r\n",
        "  x = Stress[i] * (1 + Strain[i])\r\n",
        "  i = i + 1\r\n",
        "  True_Stress.append(x)\r\n",
        "\r\n",
        "True_Strain = []\r\n",
        "for i in range (0, 998):\r\n",
        "  y = math.log(1+Strain[i])\r\n",
        "  i = i + 1\r\n",
        "  True_Strain.append(y)"
      ],
      "execution_count": 465,
      "outputs": []
    },
    {
      "cell_type": "code",
      "metadata": {
        "colab": {
          "base_uri": "https://localhost:8080/"
        },
        "id": "epUYjLqOxM78",
        "outputId": "267db724-646d-4e43-86f7-7a1fe334efe9"
      },
      "source": [
        "#UTS\r\n",
        "d = Stress[650]\r\n",
        "e = Strain[640]\r\n",
        "print(e,d)"
      ],
      "execution_count": 466,
      "outputs": [
        {
          "output_type": "stream",
          "text": [
            "0.063657 570437300.5218577\n"
          ],
          "name": "stdout"
        }
      ]
    },
    {
      "cell_type": "code",
      "metadata": {
        "colab": {
          "base_uri": "https://localhost:8080/"
        },
        "id": "nZtqiSxJxQzu",
        "outputId": "88f16e48-7f78-41da-c5f0-f8210f6304f5"
      },
      "source": [
        "#Fracture\r\n",
        "f = Stress[-1]\r\n",
        "g = Strain[-1]\r\n",
        "print(g,f)"
      ],
      "execution_count": 467,
      "outputs": [
        {
          "output_type": "stream",
          "text": [
            "0.099157 382491553.03064483\n"
          ],
          "name": "stdout"
        }
      ]
    },
    {
      "cell_type": "code",
      "metadata": {
        "colab": {
          "base_uri": "https://localhost:8080/"
        },
        "id": "P3ijAyVb5nvg",
        "outputId": "3358378f-2779-4161-9b19-b1c1886ea30b"
      },
      "source": [
        "#Yield Strength\r\n",
        "p = Stress[380]\r\n",
        "q = Strain[380]\r\n",
        "print(p, q)"
      ],
      "execution_count": 468,
      "outputs": [
        {
          "output_type": "stream",
          "text": [
            "448440164.5518253 0.037805\n"
          ],
          "name": "stdout"
        }
      ]
    },
    {
      "cell_type": "code",
      "metadata": {
        "colab": {
          "base_uri": "https://localhost:8080/",
          "height": 290
        },
        "id": "9-JDQcu9xdxE",
        "outputId": "0ebbbb38-ea50-4ca1-d3fd-2591ed1de9f4"
      },
      "source": [
        "plt.plot(Strain, Stress)\r\n",
        "#UTS\r\n",
        "plt.scatter(e,d)\r\n",
        "plt.annotate('UTS', (e, d))\r\n",
        "#Fracture\r\n",
        "plt.scatter(g, f)\r\n",
        "plt.annotate('Fracture', (g, f))\r\n",
        "#Yield Strength\r\n",
        "plt.scatter(q, p)\r\n",
        "plt.annotate('Yield Strenth', (q, p))\r\n",
        "plt.xlabel('Strain')\r\n",
        "plt.ylabel('Stress in N/m2')\r\n",
        "plt.plot(True_Strain, True_Stress)\r\n",
        "plt.show()"
      ],
      "execution_count": 469,
      "outputs": [
        {
          "output_type": "display_data",
          "data": {
            "image/png": "[encoded data removed]",
            "text/plain": [
              "<Figure size 432x288 with 1 Axes>"
            ]
          },
          "metadata": {
            "tags": [],
            "needs_background": "light"
          }
        }
      ]
    },
    {
      "cell_type": "code",
      "metadata": {
        "colab": {
          "base_uri": "https://localhost:8080/"
        },
        "id": "5dThwBHFuWK9",
        "outputId": "630ef3d3-e3dc-4e95-df81-e65d05b93540"
      },
      "source": [
        "#Young's modulus calculation for Mild Steel using data taken from extensometer \r\n",
        "import matplotlib.pyplot as plt\r\n",
        "import csv\r\n",
        "import math\r\n",
        "import pandas as pd\r\n",
        "import numpy as np\r\n",
        "\r\n",
        "Force = []\r\n",
        "Extension = []\r\n",
        "\r\n",
        "with open('Extensometer_Steel.csv','r') as csvfile:\r\n",
        "    plots = csv.reader(csvfile, delimiter=',')\r\n",
        "    for row in plots:\r\n",
        "        Force.append(float(row[0]))\r\n",
        "        Extension.append(float(row[1]))\r\n",
        "\r\n",
        "Stress = []\r\n",
        "for Forces in Force:\r\n",
        "  Stress.append((Forces*4)/(math.pi*0.007*0.007))\r\n",
        "print(Stress)\r\n",
        "\r\n",
        "Strain = []\r\n",
        "for extensions in Extension:\r\n",
        "  #Gauge length is 20mm and extension is taken in micron so the conversion\r\n",
        "  #for strain calculation is 1/20000\r\n",
        "  Strain.append(extensions/20000)\r\n",
        "print(Strain)"
      ],
      "execution_count": 470,
      "outputs": [
        {
          "output_type": "stream",
          "text": [
            "[142914642.77639583, 157465951.85908338, 181371673.9234987, 204056125.40418842, 220348394.68069756, 246021061.4194392, 268055900.88750896, 285829285.55279166, 314412214.1080708, 324806006.3099905, 340396694.61287004, 362691378.8859878, 379737198.0971361, 399277527.4367451, 424248613.2018572, 446933064.6825469, 467720649.0863863, 485909785.4397458, 510075352.3092091, 522288058.1464647]\n",
            "[0.0001, 0.0002, 0.0003, 0.0004, 0.0005, 0.0006, 0.0007, 0.0008, 0.0009, 0.001, 0.0011, 0.0012, 0.0013, 0.0014, 0.0015, 0.0016, 0.0017, 0.0018, 0.0019, 0.002]\n"
          ],
          "name": "stdout"
        }
      ]
    },
    {
      "cell_type": "code",
      "metadata": {
        "colab": {
          "base_uri": "https://localhost:8080/"
        },
        "id": "mwd4gWOZuH7p",
        "outputId": "fc7b302b-1a28-4fea-f4c1-4de89ccd909e"
      },
      "source": [
        "j = Stress[5]\r\n",
        "k = Strain[5]\r\n",
        "print(k,j)"
      ],
      "execution_count": 471,
      "outputs": [
        {
          "output_type": "stream",
          "text": [
            "0.0006 246021061.4194392\n"
          ],
          "name": "stdout"
        }
      ]
    },
    {
      "cell_type": "code",
      "metadata": {
        "colab": {
          "base_uri": "https://localhost:8080/"
        },
        "id": "J7f1Ke4ruatR",
        "outputId": "a6ab5f29-27cb-44db-b3cf-83dcc529af29"
      },
      "source": [
        "h = Stress[14]\r\n",
        "i = Strain[14]\r\n",
        "print(i,h)"
      ],
      "execution_count": 472,
      "outputs": [
        {
          "output_type": "stream",
          "text": [
            "0.0015 424248613.2018572\n"
          ],
          "name": "stdout"
        }
      ]
    },
    {
      "cell_type": "code",
      "metadata": {
        "colab": {
          "base_uri": "https://localhost:8080/"
        },
        "id": "10PqGkyauduy",
        "outputId": "c4294e0b-a1c0-4a38-ec35-069fefe3524f"
      },
      "source": [
        "Slope = (h-j)/(i-k)\r\n",
        "print(Slope)"
      ],
      "execution_count": 473,
      "outputs": [
        {
          "output_type": "stream",
          "text": [
            "198030613091.57556\n"
          ],
          "name": "stdout"
        }
      ]
    },
    {
      "cell_type": "code",
      "metadata": {
        "colab": {
          "base_uri": "https://localhost:8080/",
          "height": 281
        },
        "id": "OnICMiv8ukYt",
        "outputId": "38d5fdb1-6045-4cb5-8bf2-5a8a4b956c34"
      },
      "source": [
        "plt.plot(Strain, Stress)\r\n",
        "plt.scatter(k, j)\r\n",
        "plt.scatter(i, h)\r\n",
        "plt.title('Obtained by Extensometer')\r\n",
        "plt.show()"
      ],
      "execution_count": 474,
      "outputs": [
        {
          "output_type": "display_data",
          "data": {
            "image/png": "[encoded data removed]",
            "text/plain": [
              "<Figure size 432x288 with 1 Axes>"
            ]
          },
          "metadata": {
            "tags": [],
            "needs_background": "light"
          }
        }
      ]
    },
    {
      "cell_type": "markdown",
      "metadata": {
        "id": "o7McFt5cFBOp"
      },
      "source": [
        "# New Section"
      ]
    }
  ]
}