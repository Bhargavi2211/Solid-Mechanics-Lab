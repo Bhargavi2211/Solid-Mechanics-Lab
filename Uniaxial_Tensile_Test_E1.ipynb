{
  "nbformat": 4,
  "nbformat_minor": 0,
  "metadata": {
    "colab": {
      "name": "Uniaxial Tensile Test - E1.ipynb",
      "provenance": [],
      "collapsed_sections": [],
      "toc_visible": true
    },
    "kernelspec": {
      "name": "python3",
      "display_name": "Python 3"
    }
  },
  "cells": [
    {
      "cell_type": "code",
      "metadata": {
        "id": "iV9QZZOiPb8E"
      },
      "source": [
        "#For Aluminium\r\n",
        "import matplotlib.pyplot as plt\r\n",
        "import csv\r\n",
        "import math\r\n",
        "import pandas as pd\r\n",
        "import numpy as np\r\n",
        "\r\n",
        "Force = []\r\n",
        "Extension = []\r\n",
        "\r\n",
        "with open('UTM_Aluminium.csv','r') as csvfile:\r\n",
        "    plots = csv.reader(csvfile, delimiter=',')\r\n",
        "    for row in plots:\r\n",
        "        Force.append(float(row[0]))\r\n",
        "        Extension.append(float(row[1]))\r\n",
        "Stress = []\r\n",
        "for Forces in Force:\r\n",
        "  Stress.append((Forces*4)/(math.pi*0.007*0.007))\r\n",
        "\r\n",
        "Strain = []\r\n",
        "for extensions in Extension:\r\n",
        "  Strain.append(extensions/100)"
      ],
      "execution_count": 207,
      "outputs": []
    },
    {
      "cell_type": "code",
      "metadata": {
        "id": "KWAtfZ2aH3Di"
      },
      "source": [
        "True_Stress = []\r\n",
        "for i in range (0, 998):\r\n",
        "  x = Stress[i] * (1 + Strain[i])\r\n",
        "  i = i + 1\r\n",
        "  True_Stress.append(x)\r\n",
        "  \r\n",
        "True_Strain = []\r\n",
        "for i in range (0, 998):\r\n",
        "  y = math.log(1+Strain[i])\r\n",
        "  i = i + 1\r\n",
        "  True_Strain.append(y)"
      ],
      "execution_count": 208,
      "outputs": []
    },
    {
      "cell_type": "code",
      "metadata": {
        "colab": {
          "base_uri": "https://localhost:8080/"
        },
        "id": "vCaIDW01Hldu",
        "outputId": "c6752f0d-e4b9-475e-f720-912db12db244"
      },
      "source": [
        "#UTM\r\n",
        "d = Stress[689]\r\n",
        "e = Strain[689]\r\n",
        "print(e,d)"
      ],
      "execution_count": 209,
      "outputs": [
        {
          "output_type": "stream",
          "text": [
            "0.076881 200779482.41253322\n"
          ],
          "name": "stdout"
        }
      ]
    },
    {
      "cell_type": "code",
      "metadata": {
        "colab": {
          "base_uri": "https://localhost:8080/"
        },
        "id": "IqJq45e_IQtz",
        "outputId": "38eeb06d-d546-426f-bd0f-f6fa7e932bbf"
      },
      "source": [
        "#Fracture\r\n",
        "f = Stress[-1]\r\n",
        "g = Strain[-1]\r\n",
        "print(g,f)"
      ],
      "execution_count": 210,
      "outputs": [
        {
          "output_type": "stream",
          "text": [
            "0.11124 59977377.9011776\n"
          ],
          "name": "stdout"
        }
      ]
    },
    {
      "cell_type": "code",
      "metadata": {
        "colab": {
          "base_uri": "https://localhost:8080/",
          "height": 276
        },
        "id": "94tYucwhHvhX",
        "outputId": "8da2f8e6-804f-4eb5-9b98-2ee9cd4e3b14"
      },
      "source": [
        "plt.plot(Strain, Stress)\r\n",
        "#UTM\r\n",
        "plt.scatter(e,d)\r\n",
        "#Fracture\r\n",
        "plt.scatter(g, f)\r\n",
        "plt.show()\r\n"
      ],
      "execution_count": 211,
      "outputs": [
        {
          "output_type": "display_data",
          "data": {
            "image/png": "[encoded data removed]",
            "text/plain": [
              "<Figure size 432x288 with 1 Axes>"
            ]
          },
          "metadata": {
            "tags": [],
            "needs_background": "light"
          }
        }
      ]
    },
    {
      "cell_type": "code",
      "metadata": {
        "colab": {
          "base_uri": "https://localhost:8080/",
          "height": 276
        },
        "id": "8v1u8gYsYn2Y",
        "outputId": "97645382-c669-417b-f3de-9857e254e15f"
      },
      "source": [
        "plt.plot(Strain, Stress)\r\n",
        "plt.plot(True_Strain, True_Stress)\r\n",
        "plt.show()"
      ],
      "execution_count": 212,
      "outputs": [
        {
          "output_type": "display_data",
          "data": {
            "image/png": "[encoded data removed]",
            "text/plain": [
              "<Figure size 432x288 with 1 Axes>"
            ]
          },
          "metadata": {
            "tags": [],
            "needs_background": "light"
          }
        }
      ]
    },
    {
      "cell_type": "code",
      "metadata": {
        "colab": {
          "base_uri": "https://localhost:8080/"
        },
        "id": "JZLOQFPW3Owr",
        "outputId": "7cb027a2-0898-405a-e400-0c1e2b43a0e7"
      },
      "source": [
        "#Young's modulus calculation for Aluminium using data taken from extensometer \r\n",
        "import matplotlib.pyplot as plt\r\n",
        "import csv\r\n",
        "import math\r\n",
        "import pandas as pd\r\n",
        "import numpy as np\r\n",
        "\r\n",
        "Force = []\r\n",
        "Extension = []\r\n",
        "\r\n",
        "with open('Extensometer_Aluminium.csv','r') as csvfile:\r\n",
        "    plots = csv.reader(csvfile, delimiter=',')\r\n",
        "    for row in plots:\r\n",
        "        Force.append(float(row[0]))\r\n",
        "        Extension.append(float(row[1]))\r\n",
        "\r\n",
        "Stress = []\r\n",
        "for Forces in Force:\r\n",
        "  Stress.append((Forces*4)/(math.pi*0.007*0.007))\r\n",
        "print(Stress)\r\n",
        "\r\n",
        "Strain = []\r\n",
        "for extensions in Extension:\r\n",
        "  #Gauge length is 20mm and extension is taken in micron so the conversion\r\n",
        "  #for strain calculation is 1/20000\r\n",
        "  Strain.append(extensions/20000)\r\n",
        "print(Strain)"
      ],
      "execution_count": 213,
      "outputs": [
        {
          "output_type": "stream",
          "text": [
            "[10159931.877376502, 14707215.96571637, 19124577.65153224, 23100203.168766525, 28894742.321336754, 35884567.57712775, 41990920.49575557, 47135847.63570582, 53320153.99584804, 59712336.20002865, 65013170.2230077, 72314809.24485628, 78395177.6829793, 83799949.62797755, 91387417.93537892, 97597708.77602595, 103626108.25313936, 108926942.27611841, 114487621.10414545, 121659337.72347005]\n",
            "[0.0001, 0.0002, 0.0003, 0.0004, 0.0005, 0.0006, 0.0007, 0.0008, 0.0009, 0.001, 0.0011, 0.0012, 0.0013, 0.0014, 0.0015, 0.0016, 0.0017, 0.0018, 0.0019, 0.002]\n"
          ],
          "name": "stdout"
        }
      ]
    },
    {
      "cell_type": "code",
      "metadata": {
        "colab": {
          "base_uri": "https://localhost:8080/"
        },
        "id": "jPhfXHEA3equ",
        "outputId": "40d27714-b8fd-4303-8c3e-23535b4c4b6b"
      },
      "source": [
        "j = Stress[5]\r\n",
        "k = Strain[5]\r\n",
        "print(k,j)"
      ],
      "execution_count": 214,
      "outputs": [
        {
          "output_type": "stream",
          "text": [
            "0.0006 35884567.57712775\n"
          ],
          "name": "stdout"
        }
      ]
    },
    {
      "cell_type": "code",
      "metadata": {
        "colab": {
          "base_uri": "https://localhost:8080/"
        },
        "id": "PxcTizc93mrk",
        "outputId": "81e88199-7d15-4f86-b562-bf8521066738"
      },
      "source": [
        "h = Stress[14]\r\n",
        "i = Strain[14]\r\n",
        "print(i,h)"
      ],
      "execution_count": 215,
      "outputs": [
        {
          "output_type": "stream",
          "text": [
            "0.0015 91387417.93537892\n"
          ],
          "name": "stdout"
        }
      ]
    },
    {
      "cell_type": "code",
      "metadata": {
        "colab": {
          "base_uri": "https://localhost:8080/"
        },
        "id": "55WwrzV04E5h",
        "outputId": "63a7248d-292f-4483-ab78-dd8b2c32a3d2"
      },
      "source": [
        "Slope = (h-j)/(i-k)\r\n",
        "print(Slope)"
      ],
      "execution_count": 216,
      "outputs": [
        {
          "output_type": "stream",
          "text": [
            "61669833731.39019\n"
          ],
          "name": "stdout"
        }
      ]
    },
    {
      "cell_type": "code",
      "metadata": {
        "colab": {
          "base_uri": "https://localhost:8080/",
          "height": 281
        },
        "id": "Q7kB181XuBHE",
        "outputId": "306d181f-c520-46e6-cbb8-32a8e03b7e3a"
      },
      "source": [
        "plt.plot(Strain, Stress)\r\n",
        "plt.scatter(k, j)\r\n",
        "plt.scatter(i, h)\r\n",
        "plt.title('Obtained from Extensometer')\r\n",
        "plt.show()"
      ],
      "execution_count": 217,
      "outputs": [
        {
          "output_type": "display_data",
          "data": {
            "image/png": "[encoded data removed]",
            "text/plain": [
              "<Figure size 432x288 with 1 Axes>"
            ]
          },
          "metadata": {
            "tags": [],
            "needs_background": "light"
          }
        }
      ]
    },
    {
      "cell_type": "code",
      "metadata": {
        "id": "Omm8e0QPw-h4"
      },
      "source": [
        "#For Mild Steel\r\n",
        "import matplotlib.pyplot as plt\r\n",
        "import csv\r\n",
        "import math\r\n",
        "import pandas as pd\r\n",
        "import numpy as np\r\n",
        "\r\n",
        "Force = []\r\n",
        "Extension = []\r\n",
        "\r\n",
        "with open('UTM_Steel.csv','r') as csvfile:\r\n",
        "    plots = csv.reader(csvfile, delimiter=',')\r\n",
        "    for row in plots:\r\n",
        "        Force.append(float(row[0]))\r\n",
        "        Extension.append(float(row[1]))\r\n",
        "\r\n",
        "Stress = []\r\n",
        "for Forces in Force:\r\n",
        "  Stress.append((Forces*4)/(math.pi*0.007*0.007))\r\n",
        "\r\n",
        "Strain = []\r\n",
        "for extensions in Extension:\r\n",
        "  Strain.append(extensions/100)"
      ],
      "execution_count": 218,
      "outputs": []
    },
    {
      "cell_type": "code",
      "metadata": {
        "id": "XYQbN7hlxIwv"
      },
      "source": [
        "True_Stress = []\r\n",
        "for i in range (0, 998):\r\n",
        "  x = Stress[i] * (1 + Strain[i])\r\n",
        "  i = i + 1\r\n",
        "  True_Stress.append(x)\r\n",
        "\r\n",
        "True_Strain = []\r\n",
        "for i in range (0, 998):\r\n",
        "  y = math.log(1+Strain[i])\r\n",
        "  i = i + 1\r\n",
        "  True_Strain.append(y)"
      ],
      "execution_count": 219,
      "outputs": []
    },
    {
      "cell_type": "code",
      "metadata": {
        "colab": {
          "base_uri": "https://localhost:8080/"
        },
        "id": "epUYjLqOxM78",
        "outputId": "345a50e4-5d9c-4a54-e1a5-09abf69505c4"
      },
      "source": [
        "#UTM\r\n",
        "d = Stress[653]\r\n",
        "e = Strain[653]\r\n",
        "print(e,d)"
      ],
      "execution_count": 220,
      "outputs": [
        {
          "output_type": "stream",
          "text": [
            "0.06495000000000001 570411316.0413529\n"
          ],
          "name": "stdout"
        }
      ]
    },
    {
      "cell_type": "code",
      "metadata": {
        "colab": {
          "base_uri": "https://localhost:8080/"
        },
        "id": "nZtqiSxJxQzu",
        "outputId": "c794168d-5576-4667-b2c1-abbce1758d03"
      },
      "source": [
        "#Fracture\r\n",
        "f = Stress[-1]\r\n",
        "g = Strain[-1]\r\n",
        "print(g,f)"
      ],
      "execution_count": 221,
      "outputs": [
        {
          "output_type": "stream",
          "text": [
            "0.099157 382491553.03064483\n"
          ],
          "name": "stdout"
        }
      ]
    },
    {
      "cell_type": "code",
      "metadata": {
        "colab": {
          "base_uri": "https://localhost:8080/",
          "height": 276
        },
        "id": "9-JDQcu9xdxE",
        "outputId": "fcc69252-20b3-48f5-dfcd-d3ce3c4f50f4"
      },
      "source": [
        "plt.plot(Strain, Stress)\r\n",
        "#UTM\r\n",
        "plt.scatter(e,d)\r\n",
        "#Fracture\r\n",
        "plt.scatter(g, f)\r\n",
        "plt.show()"
      ],
      "execution_count": 222,
      "outputs": [
        {
          "output_type": "display_data",
          "data": {
            "image/png": "[encoded data removed]",
            "text/plain": [
              "<Figure size 432x288 with 1 Axes>"
            ]
          },
          "metadata": {
            "tags": [],
            "needs_background": "light"
          }
        }
      ]
    },
    {
      "cell_type": "code",
      "metadata": {
        "colab": {
          "base_uri": "https://localhost:8080/",
          "height": 276
        },
        "id": "Uyc0D4vjxhII",
        "outputId": "1e69fff3-a023-4f73-f92f-7ec8204422c4"
      },
      "source": [
        "plt.plot(Strain, Stress)\r\n",
        "plt.plot(True_Strain, True_Stress)\r\n",
        "plt.show()"
      ],
      "execution_count": 223,
      "outputs": [
        {
          "output_type": "display_data",
          "data": {
            "image/png": "[encoded data removed]",
            "text/plain": [
              "<Figure size 432x288 with 1 Axes>"
            ]
          },
          "metadata": {
            "tags": [],
            "needs_background": "light"
          }
        }
      ]
    },
    {
      "cell_type": "code",
      "metadata": {
        "colab": {
          "base_uri": "https://localhost:8080/"
        },
        "id": "5dThwBHFuWK9",
        "outputId": "7dd597ee-7e15-4335-f68c-57a7cff6541c"
      },
      "source": [
        "#Young's modulus calculation for Mild Steel using data taken from extensometer \r\n",
        "import matplotlib.pyplot as plt\r\n",
        "import csv\r\n",
        "import math\r\n",
        "import pandas as pd\r\n",
        "import numpy as np\r\n",
        "\r\n",
        "Force = []\r\n",
        "Extension = []\r\n",
        "\r\n",
        "with open('Extensometer_Steel.csv','r') as csvfile:\r\n",
        "    plots = csv.reader(csvfile, delimiter=',')\r\n",
        "    for row in plots:\r\n",
        "        Force.append(float(row[0]))\r\n",
        "        Extension.append(float(row[1]))\r\n",
        "\r\n",
        "Stress = []\r\n",
        "for Forces in Force:\r\n",
        "  Stress.append((Forces*4)/(math.pi*0.007*0.007))\r\n",
        "print(Stress)\r\n",
        "\r\n",
        "Strain = []\r\n",
        "for extensions in Extension:\r\n",
        "  #Gauge length is 20mm and extension is taken in micron so the conversion\r\n",
        "  #for strain calculation is 1/20000\r\n",
        "  Strain.append(extensions/20000)\r\n",
        "print(Strain)"
      ],
      "execution_count": 224,
      "outputs": [
        {
          "output_type": "stream",
          "text": [
            "[142914642.77639583, 157465951.85908338, 181371673.9234987, 204056125.40418842, 220348394.68069756, 246021061.4194392, 268055900.88750896, 285829285.55279166, 314412214.1080708, 324806006.3099905, 340396694.61287004, 362691378.8859878, 379737198.0971361, 399277527.4367451, 424248613.2018572, 446933064.6825469, 467720649.0863863, 485909785.4397458, 510075352.3092091, 522288058.1464647]\n",
            "[0.0001, 0.0002, 0.0003, 0.0004, 0.0005, 0.0006, 0.0007, 0.0008, 0.0009, 0.001, 0.0011, 0.0012, 0.0013, 0.0014, 0.0015, 0.0016, 0.0017, 0.0018, 0.0019, 0.002]\n"
          ],
          "name": "stdout"
        }
      ]
    },
    {
      "cell_type": "code",
      "metadata": {
        "colab": {
          "base_uri": "https://localhost:8080/"
        },
        "id": "mwd4gWOZuH7p",
        "outputId": "b81662c2-766c-40d1-e4e5-dc4e959208b3"
      },
      "source": [
        "j = Stress[5]\r\n",
        "k = Strain[5]\r\n",
        "print(k,j)"
      ],
      "execution_count": 225,
      "outputs": [
        {
          "output_type": "stream",
          "text": [
            "0.0006 246021061.4194392\n"
          ],
          "name": "stdout"
        }
      ]
    },
    {
      "cell_type": "code",
      "metadata": {
        "colab": {
          "base_uri": "https://localhost:8080/"
        },
        "id": "J7f1Ke4ruatR",
        "outputId": "2ad360bb-41bb-4506-e3de-58c6e68ff1a0"
      },
      "source": [
        "h = Stress[14]\r\n",
        "i = Strain[14]\r\n",
        "print(i,h)"
      ],
      "execution_count": 226,
      "outputs": [
        {
          "output_type": "stream",
          "text": [
            "0.0015 424248613.2018572\n"
          ],
          "name": "stdout"
        }
      ]
    },
    {
      "cell_type": "code",
      "metadata": {
        "colab": {
          "base_uri": "https://localhost:8080/"
        },
        "id": "10PqGkyauduy",
        "outputId": "7c75f39d-82dd-42e1-8ab0-1e52d8d63a92"
      },
      "source": [
        "Slope = (h-j)/(i-k)\r\n",
        "print(Slope)"
      ],
      "execution_count": 227,
      "outputs": [
        {
          "output_type": "stream",
          "text": [
            "198030613091.57556\n"
          ],
          "name": "stdout"
        }
      ]
    },
    {
      "cell_type": "code",
      "metadata": {
        "colab": {
          "base_uri": "https://localhost:8080/",
          "height": 281
        },
        "id": "OnICMiv8ukYt",
        "outputId": "24dbff0e-d511-4b93-d5ea-01b672a73584"
      },
      "source": [
        "plt.plot(Strain, Stress)\r\n",
        "plt.scatter(k, j)\r\n",
        "plt.scatter(i, h)\r\n",
        "plt.title('Obtained by Extensometer')\r\n",
        "plt.show()"
      ],
      "execution_count": 228,
      "outputs": [
        {
          "output_type": "display_data",
          "data": {
            "image/png": "[encoded data removed]",
            "text/plain": [
              "<Figure size 432x288 with 1 Axes>"
            ]
          },
          "metadata": {
            "tags": [],
            "needs_background": "light"
          }
        }
      ]
    },
    {
      "cell_type": "markdown",
      "metadata": {
        "id": "o7McFt5cFBOp"
      },
      "source": [
        "# New Section"
      ]
    }
  ]
}